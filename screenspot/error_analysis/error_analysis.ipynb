{
 "cells": [
  {
   "cell_type": "code",
   "execution_count": null,
   "metadata": {},
   "outputs": [],
   "source": [
    "import pandas as pd\n",
    "from PIL import Image, ImageDraw\n",
    "import os"
   ]
  },
  {
   "cell_type": "code",
   "execution_count": null,
   "metadata": {},
   "outputs": [],
   "source": [
    "# JSONL_FILE = \"gpt-4o_UEye.jsonl\"\n",
    "# ERROR_FILE = \"incorrect_4o_ueye.csv\"\n",
    "JSONL_FILE = \"org_UEye.jsonl\"\n",
    "ERROR_FILE = \"incorrect_org_ueye.csv\"\n",
    "\n",
    "df = pd.read_json(JSONL_FILE, lines=True)\n",
    "\n",
    "df"
   ]
  },
  {
   "cell_type": "code",
   "execution_count": null,
   "metadata": {},
   "outputs": [],
   "source": [
    "def in_bound(output, bbox):\n",
    "    return output[0] >= bbox[0] and output[1] >= bbox[1] and output[0] <= bbox[0] + bbox[2] and output[1] <= bbox[1] + bbox[3]\n",
    "\n",
    "df[\"correct\"] = df.apply(lambda x: in_bound(x[\"output\"], x[\"bbox\"]), axis=1)\n",
    "df[\"bbox_xyxy\"] = df[\"bbox\"].apply(lambda x: [x[0], x[1], x[0] + x[2], x[1] + x[3]])\n",
    "\n",
    "all_count = df.shape[0]\n",
    "correct_count = df[df[\"correct\"] == True].shape[0]\n",
    "incorrect_count = df[df[\"correct\"] == False].shape[0]\n",
    "accuracy = correct_count / all_count\n",
    "print(accuracy)\n",
    "\n",
    "df_incorrect = df[df[\"correct\"] == False]\n",
    "df_incorrect.to_csv(ERROR_FILE)\n",
    "df_incorrect"
   ]
  },
  {
   "cell_type": "code",
   "execution_count": null,
   "metadata": {},
   "outputs": [],
   "source": [
    "for i in range(250, df_incorrect.shape[0]):\n",
    "    row = df_incorrect.iloc[i]\n",
    "    img = Image.open(os.path.join(\"..\", \"screenspot_imgs\", row[\"img_filename\"]))\n",
    "    img_draw = ImageDraw.Draw(img)\n",
    "    img_draw.rectangle(row[\"bbox_xyxy\"], outline=\"red\", width=3)\n",
    "    img_draw.circle(row[\"output\"], radius=6, fill=\"blue\")\n",
    "    \n",
    "    print(\"img_filename:\", row[\"img_filename\"])\n",
    "    try:\n",
    "        print(\"Instruction:\", row[\"instruction\"])\n",
    "    except Exception as e:\n",
    "        pass\n",
    "    print(\"Data Type:\", row[\"data_type\"])\n",
    "    print(\"Data source:\", row[\"data_source\"])\n",
    "    print(\"Platform:\", row[\"platform\"])\n",
    "    print(\"Scale:\", row[\"scale\"])\n",
    "    print(\"Description:\", row[\"description\"])\n",
    "    display(img)"
   ]
  }
 ],
 "metadata": {
  "kernelspec": {
   "display_name": "ferret",
   "language": "python",
   "name": "python3"
  },
  "language_info": {
   "codemirror_mode": {
    "name": "ipython",
    "version": 3
   },
   "file_extension": ".py",
   "mimetype": "text/x-python",
   "name": "python",
   "nbconvert_exporter": "python",
   "pygments_lexer": "ipython3",
   "version": "3.10.14"
  }
 },
 "nbformat": 4,
 "nbformat_minor": 2
}
